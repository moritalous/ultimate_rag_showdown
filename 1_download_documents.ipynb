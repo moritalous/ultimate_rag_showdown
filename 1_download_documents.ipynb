{
 "cells": [
  {
   "cell_type": "markdown",
   "metadata": {},
   "source": [
    "# Download documents"
   ]
  },
  {
   "cell_type": "code",
   "execution_count": 2,
   "metadata": {},
   "outputs": [],
   "source": [
    "import json\n",
    "from pathlib import Path\n",
    "\n",
    "import html2text\n",
    "import requests\n",
    "\n",
    "url = \"https://aws.amazon.com/api/dirs/items/search\"\n",
    "params = {\n",
    "    \"item.directoryId\": \"whats-new-v2\",\n",
    "    \"size\": 2000,\n",
    "    \"item.locale\": \"ja_JP\",\n",
    "    \"tags.id\": \"whats-new-v2#year#2024\",\n",
    "}\n",
    "\n",
    "response = requests.get(url, params=params)\n",
    "items = response.json()\n",
    "\n",
    "h = html2text.HTML2Text()\n",
    "h.body_width = 0\n",
    "\n",
    "for item in items[\"items\"]:\n",
    "    title: str = item[\"item\"][\"additionalFields\"][\"headline\"]\n",
    "    body: str = h.handle(item[\"item\"][\"additionalFields\"][\"postBody\"])\n",
    "    headlineUrl: str = item[\"item\"][\"additionalFields\"][\"headlineUrl\"]\n",
    "    url = f\"https://aws.amazon.com/jp{headlineUrl}\"\n",
    "\n",
    "    if headlineUrl.endswith(\"/\"):\n",
    "        headlineUrl = headlineUrl[:-1]\n",
    "\n",
    "    path = Path(f\".{headlineUrl}.json\")\n",
    "\n",
    "    if not path.parent.exists():\n",
    "        path.parent.mkdir(parents=True)\n",
    "\n",
    "    with path.open(mode=\"w\") as f:\n",
    "        obj = {\"title\": title, \"body\": body, \"url\": url}\n",
    "        json.dump(obj, f, indent=2, ensure_ascii=False)"
   ]
  },
  {
   "cell_type": "markdown",
   "metadata": {},
   "source": [
    "内容確認"
   ]
  },
  {
   "cell_type": "code",
   "execution_count": 6,
   "metadata": {},
   "outputs": [
    {
     "name": "stdout",
     "output_type": "stream",
     "text": [
      "{\n",
      "  \"title\": \"Nodestream 用の Amazon Neptune コネクタ、Parquet、SBOM に関する発表\",\n",
      "  \"body\": \"本日、Nodestream 用の Amazon Neptune コネクタ、Nodestream の Parquet ファイル形式による入力への対応、および CycloneDX と SPDX ファイル形式用の Nodestream Security Bill Of Material (SBOM) プラグインが利用可能になったことが発表されました。\\n\\nNodestream は、ETL (抽出、変換、ロード) のためのオープンソースプロジェクトで、柔軟性と拡張性を備えるように設計されており、データを収集したりグラフとしてモデル化する方法を定義したりできます。データの収集方法と処理方法を定義するためにパイプラインベースのアプローチを使用しており、スキーマ変更時のグラフの更新方法を定義できます。\\n\\nSBOM は、組織がソフトウェアアプリケーションの透明性、セキュリティ、信頼性を向上させるのに役立ちます。Nodestream SBOM プラグインによって、SBOM データ分析用の独自のグラフデータモデルが提供されます。SBOM は、サイバーリスク軽減のための高度なサプライチェーン機能を提供するフルスタックの Bill of Materials (BOM) 標準である CycloneDX、および Linux 用の System Package Data Exchange (SPDX) からインポートされます。SBOM は、GitHub と Amazon Inspector からもインポートされます。\\n\\nNodestream、Amazon Neptune コネクタ、および SBOM プラグインは Python フレームワークであり、Neptune Database エンジンのバージョン 1.2.1.1 以降および Neptune Analytics と互換性があります。プロジェクトを開始したり貢献したりするには、[NodeStream のページ](https://nodestream-proj.github.io/docs/)、[Amazon Neptune Database と Analytics コネクタのページ](https://github.com/nodestream-proj/nodestream-plugin-neptune)、および [SBOM プラグインのページ](https://github.com/nodestream-proj/nodestream-plugin-sbom)にアクセスしてください。\\n\",\n",
      "  \"url\": \"https://aws.amazon.com/jp/about-aws/whats-new/2024/04/amazon-neptune-connector-nodestream-parquet-sbom/\"\n",
      "}\n"
     ]
    }
   ],
   "source": [
    "for file in Path(\"about-aws\").glob(\"**/*.json\"):\n",
    "    with file.open(mode=\"rt\") as f:\n",
    "        print(f.read())\n",
    "        break"
   ]
  }
 ],
 "metadata": {
  "kernelspec": {
   "display_name": "base",
   "language": "python",
   "name": "python3"
  },
  "language_info": {
   "codemirror_mode": {
    "name": "ipython",
    "version": 3
   },
   "file_extension": ".py",
   "mimetype": "text/x-python",
   "name": "python",
   "nbconvert_exporter": "python",
   "pygments_lexer": "ipython3",
   "version": "3.12.2"
  }
 },
 "nbformat": 4,
 "nbformat_minor": 2
}

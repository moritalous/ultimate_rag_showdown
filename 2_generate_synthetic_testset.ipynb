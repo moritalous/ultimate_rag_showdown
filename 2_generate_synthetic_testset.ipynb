{
 "cells": [
  {
   "cell_type": "markdown",
   "metadata": {},
   "source": [
    "# Ragasを使ってテストデータを生成する"
   ]
  },
  {
   "cell_type": "code",
   "execution_count": 1,
   "metadata": {},
   "outputs": [
    {
     "data": {
      "text/plain": [
       "True"
      ]
     },
     "execution_count": 1,
     "metadata": {},
     "output_type": "execute_result"
    }
   ],
   "source": [
    "import nest_asyncio\n",
    "from dotenv import load_dotenv\n",
    "\n",
    "nest_asyncio.apply()\n",
    "\n",
    "load_dotenv(override=True)"
   ]
  },
  {
   "cell_type": "markdown",
   "metadata": {},
   "source": [
    "ドキュメントを読み込みます"
   ]
  },
  {
   "cell_type": "code",
   "execution_count": 2,
   "metadata": {},
   "outputs": [],
   "source": [
    "from langchain_community.document_loaders import DirectoryLoader\n",
    "from langchain_community.document_loaders.text import TextLoader\n",
    "\n",
    "loader = DirectoryLoader(\"./about-aws/whats-new/2024/\", loader_cls=TextLoader)\n",
    "documents = loader.load()\n",
    "\n",
    "for document in documents:\n",
    "    document.metadata[\"filename\"] = document.metadata[\"source\"]"
   ]
  },
  {
   "cell_type": "code",
   "execution_count": 3,
   "metadata": {},
   "outputs": [
    {
     "data": {
      "text/plain": [
       "Document(metadata={'source': 'about-aws/whats-new/2024/04/amazon-neptune-connector-nodestream-parquet-sbom.json', 'filename': 'about-aws/whats-new/2024/04/amazon-neptune-connector-nodestream-parquet-sbom.json'}, page_content='{\\n  \"title\": \"Nodestream 用の Amazon Neptune コネクタ、Parquet、SBOM に関する発表\",\\n  \"body\": \"本日、Nodestream 用の Amazon Neptune コネクタ、Nodestream の Parquet ファイル形式による入力への対応、および CycloneDX と SPDX ファイル形式用の Nodestream Security Bill Of Material (SBOM) プラグインが利用可能になったことが発表されました。\\\\n\\\\nNodestream は、ETL (抽出、変換、ロード) のためのオープンソースプロジェクトで、柔軟性と拡張性を備えるように設計されており、データを収集したりグラフとしてモデル化する方法を定義したりできます。データの収集方法と処理方法を定義するためにパイプラインベースのアプローチを使用しており、スキーマ変更時のグラフの更新方法を定義できます。\\\\n\\\\nSBOM は、組織がソフトウェアアプリケーションの透明性、セキュリティ、信頼性を向上させるのに役立ちます。Nodestream SBOM プラグインによって、SBOM データ分析用の独自のグラフデータモデルが提供されます。SBOM は、サイバーリスク軽減のための高度なサプライチェーン機能を提供するフルスタックの Bill of Materials (BOM) 標準である CycloneDX、および Linux 用の System Package Data Exchange (SPDX) からインポートされます。SBOM は、GitHub と Amazon Inspector からもインポートされます。\\\\n\\\\nNodestream、Amazon Neptune コネクタ、および SBOM プラグインは Python フレームワークであり、Neptune Database エンジンのバージョン 1.2.1.1 以降および Neptune Analytics と互換性があります。プロジェクトを開始したり貢献したりするには、[NodeStream のページ](https://nodestream-proj.github.io/docs/)、[Amazon Neptune Database と Analytics コネクタのページ](https://github.com/nodestream-proj/nodestream-plugin-neptune)、および [SBOM プラグインのページ](https://github.com/nodestream-proj/nodestream-plugin-sbom)にアクセスしてください。\\\\n\",\\n  \"url\": \"https://aws.amazon.com/jp/about-aws/whats-new/2024/04/amazon-neptune-connector-nodestream-parquet-sbom/\"\\n}')"
      ]
     },
     "execution_count": 3,
     "metadata": {},
     "output_type": "execute_result"
    }
   ],
   "source": [
    "documents[0]"
   ]
  },
  {
   "cell_type": "markdown",
   "metadata": {},
   "source": [
    "LangChainのモデルを定義します。\n",
    "\n",
    "評価対象のLLMと違うモデルを使用したほうが公平な評価になると思い、Azure OpenAI Serviceのモデルを使用しています。\n",
    "\n",
    ".env.sampleに、を使用する場合のを参考に、.envファイルを作成してから実行してください。"
   ]
  },
  {
   "cell_type": "code",
   "execution_count": 4,
   "metadata": {},
   "outputs": [],
   "source": [
    "import os\n",
    "\n",
    "from langchain_openai import AzureChatOpenAI, AzureOpenAIEmbeddings\n",
    "\n",
    "generator_llm = AzureChatOpenAI(\n",
    "    azure_deployment=os.getenv(\"AZURE_DEPLOYMENT_GPT4OMINI\", None)\n",
    ")\n",
    "critic_llm = AzureChatOpenAI(azure_deployment=os.getenv(\"AZURE_DEPLOYMENT_GPT4O\", None))\n",
    "embeddings = AzureOpenAIEmbeddings(\n",
    "    azure_deployment=os.getenv(\"AZURE_DEPLOYMENT_EMBEDDINGS\", None)\n",
    ")"
   ]
  },
  {
   "cell_type": "markdown",
   "metadata": {},
   "source": [
    "RagasのTestsetGeneratorを生成します"
   ]
  },
  {
   "cell_type": "code",
   "execution_count": 5,
   "metadata": {},
   "outputs": [],
   "source": [
    "from ragas.run_config import RunConfig\n",
    "from ragas.testset.evolutions import multi_context, reasoning, simple\n",
    "from ragas.testset.generator import TestsetGenerator\n",
    "\n",
    "run_config = RunConfig(max_wait=600, max_retries=100)\n",
    "\n",
    "generator = TestsetGenerator.from_langchain(\n",
    "    generator_llm, critic_llm, embeddings, run_config=run_config\n",
    ")"
   ]
  },
  {
   "cell_type": "markdown",
   "metadata": {},
   "source": [
    "使用するプロンプトを日本語に合わせて最適化します。\n",
    "（手作業でプロンプトを修正したファイルをcache_dirに用意しています）"
   ]
  },
  {
   "cell_type": "code",
   "execution_count": 6,
   "metadata": {},
   "outputs": [],
   "source": [
    "language = \"japanese\"\n",
    "\n",
    "generator.adapt(language, evolutions=[simple, reasoning, multi_context], cache_dir=\"./ragas/.cache\")"
   ]
  },
  {
   "cell_type": "markdown",
   "metadata": {},
   "source": [
    "生成を開始します。`test_size`が生成するテストデータの数です。"
   ]
  },
  {
   "cell_type": "code",
   "execution_count": 7,
   "metadata": {},
   "outputs": [
    {
     "data": {
      "application/vnd.jupyter.widget-view+json": {
       "model_id": "d1c937a0b1c7456e920f35825121a797",
       "version_major": 2,
       "version_minor": 0
      },
      "text/plain": [
       "embedding nodes:   0%|          | 0/3082 [00:00<?, ?it/s]"
      ]
     },
     "metadata": {},
     "output_type": "display_data"
    },
    {
     "data": {
      "application/vnd.jupyter.widget-view+json": {
       "model_id": "fc5958b435a74d4f8e995676592487a6",
       "version_major": 2,
       "version_minor": 0
      },
      "text/plain": [
       "Generating:   0%|          | 0/10 [00:00<?, ?it/s]"
      ]
     },
     "metadata": {},
     "output_type": "display_data"
    }
   ],
   "source": [
    "testset = generator.generate_with_langchain_docs(\n",
    "    documents,\n",
    "    test_size=10,  # 生成するテストデータの数\n",
    "    distributions={simple: 0.5, reasoning: 0.25, multi_context: 0.25},\n",
    "    raise_exceptions=False,\n",
    "    run_config=run_config,\n",
    ")"
   ]
  },
  {
   "cell_type": "markdown",
   "metadata": {},
   "source": [
    "生成したテストデータを確認します。"
   ]
  },
  {
   "cell_type": "code",
   "execution_count": 8,
   "metadata": {},
   "outputs": [
    {
     "data": {
      "text/html": [
       "<div>\n",
       "<style scoped>\n",
       "    .dataframe tbody tr th:only-of-type {\n",
       "        vertical-align: middle;\n",
       "    }\n",
       "\n",
       "    .dataframe tbody tr th {\n",
       "        vertical-align: top;\n",
       "    }\n",
       "\n",
       "    .dataframe thead th {\n",
       "        text-align: right;\n",
       "    }\n",
       "</style>\n",
       "<table border=\"1\" class=\"dataframe\">\n",
       "  <thead>\n",
       "    <tr style=\"text-align: right;\">\n",
       "      <th></th>\n",
       "      <th>question</th>\n",
       "      <th>contexts</th>\n",
       "      <th>ground_truth</th>\n",
       "      <th>evolution_type</th>\n",
       "      <th>metadata</th>\n",
       "      <th>episode_done</th>\n",
       "    </tr>\n",
       "  </thead>\n",
       "  <tbody>\n",
       "    <tr>\n",
       "      <th>0</th>\n",
       "      <td>データサイエンティストはAmazon SageMaker Studioノートブックでどのよう...</td>\n",
       "      <td>[{\\n  \"title\": \"Amazon SageMaker Studio ノートブック...</td>\n",
       "      <td>データサイエンティストは、Amazon SageMaker Studio の Jupyter...</td>\n",
       "      <td>simple</td>\n",
       "      <td>[{'source': 'about-aws/whats-new/2024/04/amazo...</td>\n",
       "      <td>True</td>\n",
       "    </tr>\n",
       "    <tr>\n",
       "      <th>1</th>\n",
       "      <td>フルマネージド型のデータベースインスタンスを作成するには、どのような手順を踏む必要がありますか?</td>\n",
       "      <td>[照してください。 [Amazon RDS マネジメントコンソール](https://con...</td>\n",
       "      <td>フルマネージド型の M7g または R7g データベースインスタンスを作成するには、Amaz...</td>\n",
       "      <td>simple</td>\n",
       "      <td>[{'source': 'about-aws/whats-new/2024/02/amazo...</td>\n",
       "      <td>True</td>\n",
       "    </tr>\n",
       "    <tr>\n",
       "      <th>2</th>\n",
       "      <td>AWS CloudShell でコンテナの起動はどのように簡単になったのでしょうか?</td>\n",
       "      <td>[{\\n  \"title\": \"AWS CloudShell は 13 のリージョンで Do...</td>\n",
       "      <td>AWS CloudShell では Docker の組み込みサポートを開始したため、デベロッ...</td>\n",
       "      <td>simple</td>\n",
       "      <td>[{'source': 'about-aws/whats-new/2024/01/aws-c...</td>\n",
       "      <td>True</td>\n",
       "    </tr>\n",
       "    <tr>\n",
       "      <th>3</th>\n",
       "      <td>高い総スループットを実現するために、Mountpoint for Amazon S3 CSI...</td>\n",
       "      <td>[{\\n  \"title\": \"Mountpoint for Amazon S3 CSI ド...</td>\n",
       "      <td>Mountpoint for Amazon S3 CSI ドライバーは、Bottlerock...</td>\n",
       "      <td>simple</td>\n",
       "      <td>[{'source': 'about-aws/whats-new/2024/03/mount...</td>\n",
       "      <td>True</td>\n",
       "    </tr>\n",
       "    <tr>\n",
       "      <th>4</th>\n",
       "      <td>Amazon Time Sync Serviceはどのようにして追加料金なしで使用できるのですか?</td>\n",
       "      <td>[タンスタイプにも拡大する予定です。このサービスは追加料金なしで使用できます。\\n\\nAma...</td>\n",
       "      <td>与えられた質問に対する答えは文脈の中に存在しない</td>\n",
       "      <td>simple</td>\n",
       "      <td>[{'source': 'about-aws/whats-new/2024/03/amazo...</td>\n",
       "      <td>True</td>\n",
       "    </tr>\n",
       "  </tbody>\n",
       "</table>\n",
       "</div>"
      ],
      "text/plain": [
       "                                            question  \\\n",
       "0  データサイエンティストはAmazon SageMaker Studioノートブックでどのよう...   \n",
       "1   フルマネージド型のデータベースインスタンスを作成するには、どのような手順を踏む必要がありますか?   \n",
       "2         AWS CloudShell でコンテナの起動はどのように簡単になったのでしょうか?   \n",
       "3  高い総スループットを実現するために、Mountpoint for Amazon S3 CSI...   \n",
       "4  Amazon Time Sync Serviceはどのようにして追加料金なしで使用できるのですか?   \n",
       "\n",
       "                                            contexts  \\\n",
       "0  [{\\n  \"title\": \"Amazon SageMaker Studio ノートブック...   \n",
       "1  [照してください。 [Amazon RDS マネジメントコンソール](https://con...   \n",
       "2  [{\\n  \"title\": \"AWS CloudShell は 13 のリージョンで Do...   \n",
       "3  [{\\n  \"title\": \"Mountpoint for Amazon S3 CSI ド...   \n",
       "4  [タンスタイプにも拡大する予定です。このサービスは追加料金なしで使用できます。\\n\\nAma...   \n",
       "\n",
       "                                        ground_truth evolution_type  \\\n",
       "0  データサイエンティストは、Amazon SageMaker Studio の Jupyter...         simple   \n",
       "1  フルマネージド型の M7g または R7g データベースインスタンスを作成するには、Amaz...         simple   \n",
       "2  AWS CloudShell では Docker の組み込みサポートを開始したため、デベロッ...         simple   \n",
       "3  Mountpoint for Amazon S3 CSI ドライバーは、Bottlerock...         simple   \n",
       "4                           与えられた質問に対する答えは文脈の中に存在しない         simple   \n",
       "\n",
       "                                            metadata  episode_done  \n",
       "0  [{'source': 'about-aws/whats-new/2024/04/amazo...          True  \n",
       "1  [{'source': 'about-aws/whats-new/2024/02/amazo...          True  \n",
       "2  [{'source': 'about-aws/whats-new/2024/01/aws-c...          True  \n",
       "3  [{'source': 'about-aws/whats-new/2024/03/mount...          True  \n",
       "4  [{'source': 'about-aws/whats-new/2024/03/amazo...          True  "
      ]
     },
     "execution_count": 8,
     "metadata": {},
     "output_type": "execute_result"
    }
   ],
   "source": [
    "test_df = testset.to_pandas()\n",
    "test_df.head()"
   ]
  },
  {
   "cell_type": "markdown",
   "metadata": {},
   "source": [
    "テストデータを保存します。"
   ]
  },
  {
   "cell_type": "code",
   "execution_count": 9,
   "metadata": {},
   "outputs": [],
   "source": [
    "test_df.to_json(\"testdataset.json\", force_ascii=False)"
   ]
  }
 ],
 "metadata": {
  "kernelspec": {
   "display_name": "base",
   "language": "python",
   "name": "python3"
  },
  "language_info": {
   "codemirror_mode": {
    "name": "ipython",
    "version": 3
   },
   "file_extension": ".py",
   "mimetype": "text/x-python",
   "name": "python",
   "nbconvert_exporter": "python",
   "pygments_lexer": "ipython3",
   "version": "3.12.2"
  }
 },
 "nbformat": 4,
 "nbformat_minor": 2
}
